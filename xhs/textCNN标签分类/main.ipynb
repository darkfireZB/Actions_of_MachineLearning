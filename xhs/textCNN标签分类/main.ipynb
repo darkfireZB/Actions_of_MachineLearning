import pandas as pd
import numpy as np
import matplotlib.pyplot as plt
import os
import jieba
import pymysql
import jieba.analyse

# 用来正常显示中文标签
plt.rcParams['font.sans-serif'] = ['SimHei']
# 用来正常显示负号
plt.rcParams['axes.unicode_minus'] = False

